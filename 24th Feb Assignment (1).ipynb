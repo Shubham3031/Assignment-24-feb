{
 "cells": [
  {
   "cell_type": "code",
   "execution_count": null,
   "id": "9804b6b4-2de3-486d-bae2-3ac94693a5a1",
   "metadata": {},
   "outputs": [],
   "source": [
    "# 1.Ans.\n",
    "\n",
    "1. pandas.read_csv() - This function is used to read a CSV file into a pandas dataframe.\n",
    "\n",
    "  import pandas as pd\n",
    "\n",
    "    df = pd.read_csv('data.csv')\n",
    "\n",
    "2. pandas.DataFrame.head() - This function is used to display the first n rows of a dataframe.\n",
    "     \n",
    "    import pandas as pd\n",
    "\n",
    "df = pd.read_csv('data.csv')\n",
    "\n",
    "print(df.head())\n",
    "\n",
    "3. pandas.DataFrame.groupby() - This function is used to group a dataframe by one or more columns.\n",
    "\n",
    "    import pandas as pd\n",
    "\n",
    "df = pd.read_csv('data.csv')\n",
    "\n",
    "grouped_df = df.groupby('category')\n",
    "\n",
    "print(grouped_df.mean())\n",
    "\n",
    "4. pandas.DataFrame.merge() - This function is used to merge two dataframes based on a common column.\n",
    "\n",
    "    import pandas as pd\n",
    "\n",
    "df1 = pd.read_csv('data1.csv')\n",
    "df2 = pd.read_csv('data2.csv')\n",
    "\n",
    "merged_df = pd.merge(df1, df2, on='key')\n",
    "\n",
    "print(merged_df.head())\n",
    "\n",
    "5. pandas.DataFrame.to_csv() - This function is used to save a pandas dataframe as a CSV file.\n",
    " \n",
    "    import pandas as pd\n",
    "\n",
    "df = pd.read_csv('data.csv')\n",
    "\n",
    "df.to_csv('new_data.csv', index=False)\n"
   ]
  },
  {
   "cell_type": "code",
   "execution_count": 13,
   "id": "7b1567d0-0201-4826-ad4c-b2458a4742ec",
   "metadata": {},
   "outputs": [
    {
     "name": "stdout",
     "output_type": "stream",
     "text": [
      "   index   A   B   C\n",
      "0      1  10  40  70\n",
      "1      3  20  50  80\n",
      "2      5  30  60  90\n"
     ]
    }
   ],
   "source": [
    "# 2.Ans.\n",
    "\n",
    "import pandas as pd\n",
    "\n",
    "def reindex_df(df):\n",
    "    new_index = pd.RangeIndexgeIndex(start=1, step=2, stop=len(df)*2+1)\n",
    "    df = df.set_index(new_index)\n",
    "    df = df.reset_index(drop=False)\n",
    "    return df\n",
    "df = pd.DataFrame({'A': [10,20,30], 'B': [40,50,60], 'C': [70, 80, 90]})\n",
    "df_new = reindex_df(df)\n",
    "print(df_new)\n",
    "\n",
    "\n"
   ]
  },
  {
   "cell_type": "code",
   "execution_count": 24,
   "id": "c90bf8e3-0cd1-42be-96ca-f76667e50062",
   "metadata": {},
   "outputs": [
    {
     "name": "stdout",
     "output_type": "stream",
     "text": [
      "   Values\n",
      "0      10\n",
      "1      20\n",
      "2      30\n",
      "3      40\n",
      "4      50\n"
     ]
    },
    {
     "data": {
      "text/plain": [
       "Values    60\n",
       "dtype: int64"
      ]
     },
     "execution_count": 24,
     "metadata": {},
     "output_type": "execute_result"
    }
   ],
   "source": [
    "# 3.Ans.\n",
    "\n",
    "import pandas as pd\n",
    "data = {'Values':[10,20,30,40,50]}\n",
    "df = pd.DataFrame(data)\n",
    "print(df)\n",
    "df.head(3).sum()"
   ]
  },
  {
   "cell_type": "code",
   "execution_count": 12,
   "id": "c28cb7f4-b434-40b3-8548-5a8c5974b37b",
   "metadata": {},
   "outputs": [
    {
     "name": "stdout",
     "output_type": "stream",
     "text": [
      "  Text Word_Count\n",
      "0   ab         ab\n",
      "1   bc         bc\n",
      "2   ca         ca\n",
      "3   da         da\n"
     ]
    }
   ],
   "source": [
    "# 4.Ans.\n",
    "\n",
    "import pandas as pd\n",
    "df = pd.DataFrame({'Text': ['ab','bc','ca','da']})\n",
    "\n",
    "def split_and_join(sentence):\n",
    "    return ' '.join(sentence.split())\n",
    "\n",
    "df['Word_Count'] = df['Text'].apply(split_and_join)\n",
    "\n",
    "print(df)\n",
    "\n",
    "\n",
    "\n",
    "\n"
   ]
  },
  {
   "cell_type": "code",
   "execution_count": null,
   "id": "c5477e3d-42ff-41e2-9d64-d0775d2697de",
   "metadata": {},
   "outputs": [],
   "source": [
    "# 5.Ans.\n",
    "\n",
    "DataFrame.size() returns the total number of elements in the DataFrame, which is \n",
    "equivalent to the number of rows multiplied by the number of columns.\n",
    "\n",
    "DataFrame.shape() returns a tuple that represents the dimensions of the DataFrame, \n",
    "with the number of rows followed by the number of columns."
   ]
  },
  {
   "cell_type": "code",
   "execution_count": null,
   "id": "0b810987-d1d1-49de-9667-89f6f5cced0a",
   "metadata": {},
   "outputs": [],
   "source": [
    "# 6.Ans.\n",
    "\n",
    "To read an Excel file in pandas, we use the read_excel() function."
   ]
  },
  {
   "cell_type": "code",
   "execution_count": 14,
   "id": "f96cadd2-ff1a-49e2-b54c-deaffd6d4240",
   "metadata": {},
   "outputs": [
    {
     "name": "stdout",
     "output_type": "stream",
     "text": [
      "                  Email   Username\n",
      "0  john.doe@example.com   john.doe\n",
      "1          sk@gmail.com         sk\n",
      "2   shubham30@gmail.com  shubham30\n"
     ]
    }
   ],
   "source": [
    "# 7.Ans.\n",
    "\n",
    "import pandas as pd\n",
    "df = pd.DataFrame({'Email':['john.doe@example.com','sk@gmail.com','shubham30@gmail.com']})\n",
    "df['Username'] = df['Email'].str.split('@').str[0]\n",
    "print(df)\n"
   ]
  },
  {
   "cell_type": "code",
   "execution_count": 19,
   "id": "86d93d85-3abb-4541-a143-6229b0bb79f9",
   "metadata": {},
   "outputs": [
    {
     "name": "stdout",
     "output_type": "stream",
     "text": [
      "   A  B  C\n",
      "0  3  5  1\n",
      "1  8  2  7\n",
      "2  6  9  4\n",
      "3  2  3  5\n",
      "4  9  1  2\n",
      "   A  B  C\n",
      "1  8  2  7\n",
      "2  6  9  4\n",
      "4  9  1  2\n"
     ]
    }
   ],
   "source": [
    "# 8.Ans.\n",
    "\n",
    "import pandas as pd\n",
    "\n",
    "df = pd.DataFrame({'A': [3,8,6,2,9], 'B': [5,2,9,3,1], 'C': [1,7,4,5,2]})\n",
    "\n",
    "result = df[(df['A'] > 5)  & (df['B'] < 10 )]\n",
    "\n",
    "print(df)\n",
    "\n",
    "print(result)\n"
   ]
  },
  {
   "cell_type": "code",
   "execution_count": 25,
   "id": "6c6a8184-bf3d-4f3e-8e18-e595577aa3ec",
   "metadata": {},
   "outputs": [
    {
     "name": "stdout",
     "output_type": "stream",
     "text": [
      "   Values\n",
      "0       1\n",
      "1       2\n",
      "2       3\n",
      "3       4\n",
      "4       5\n",
      "5       6\n",
      "6       7\n",
      "7       8\n",
      "8       9\n",
      "9      10\n",
      "Mean is:\n",
      "Values    5.5\n",
      "dtype: float64\n",
      "Median is:\n",
      "Values    5.5\n",
      "dtype: float64\n",
      "Standard Deviation is:\n",
      "Values    3.02765\n",
      "dtype: float64\n"
     ]
    }
   ],
   "source": [
    "# 9.Ans.\n",
    "\n",
    "import pandas as pd\n",
    "\n",
    "df = pd.DataFrame({'Values':[1,2,3,4,5,6,7,8,9,10]})\n",
    "print(df)\n",
    "print('Mean is:')\n",
    "print(df.mean())\n",
    "print('Median is:')\n",
    "print (df.median())\n",
    "print('Standard Deviation is:')\n",
    "print(df.std())"
   ]
  },
  {
   "cell_type": "code",
   "execution_count": 38,
   "id": "8a83d5ba-f0f5-4d35-a74c-54b2462d0b4f",
   "metadata": {},
   "outputs": [
    {
     "name": "stdout",
     "output_type": "stream",
     "text": [
      "DataFrame:\n",
      "   Sales       Date\n",
      "0     10 2023-01-01\n",
      "1     20 2023-01-02\n",
      "2     30 2023-01-03\n",
      "3     40 2023-01-04\n",
      "4     50 2023-01-05\n",
      "5     60 2023-01-06\n",
      "6     70 2023-01-07\n",
      "New Data Frame:\n",
      "   Sales       Date  MovingAverage\n",
      "0     10 2023-01-01           10.0\n",
      "1     20 2023-01-02           15.0\n",
      "2     30 2023-01-03           20.0\n",
      "3     40 2023-01-04           25.0\n",
      "4     50 2023-01-05           30.0\n",
      "5     60 2023-01-06           35.0\n",
      "6     70 2023-01-07           40.0\n"
     ]
    }
   ],
   "source": [
    "# 10.Ans.\n",
    "\n",
    "import pandas as pd\n",
    "\n",
    "def add_moving_average(df):\n",
    "    df['MovingAverage'] = df['Sales'].rolling(window=7, min_periods=1).mean()\n",
    "    return df\n",
    "\n",
    "df = pd.DataFrame({'Sales': [10, 20, 30, 40, 50, 60, 70],\n",
    "                   'Date': pd.date_range(start='2023-01-01', periods=7)})\n",
    "print('DataFrame:')\n",
    "print(df)\n",
    "\n",
    "df = add_moving_average(df)\n",
    "print('New Data Frame:')\n",
    "print(df)\n",
    "\n",
    "\n",
    "\n"
   ]
  },
  {
   "cell_type": "code",
   "execution_count": 9,
   "id": "f7bf24d7-784e-4423-ac79-57ab630a96fd",
   "metadata": {},
   "outputs": [
    {
     "name": "stdout",
     "output_type": "stream",
     "text": [
      "        Date    Weekday\n",
      "0 2023-01-01     Sunday\n",
      "1 2023-01-02     Monday\n",
      "2 2023-01-03    Tuesday\n",
      "3 2023-01-04  Wednesday\n",
      "4 2023-01-05   Thursday\n"
     ]
    }
   ],
   "source": [
    "# 11.Ans.\n",
    "\n",
    "import pandas as pd\n",
    "\n",
    "df = pd.DataFrame({'Date': pd.date_range(start='2023-01-01', periods=5)})\n",
    "\n",
    "df['Weekday'] = df['Date'].dt.day_name()\n",
    "\n",
    "print(df)\n",
    "\n"
   ]
  },
  {
   "cell_type": "code",
   "execution_count": 11,
   "id": "8a8d8588-9f26-43c2-83cd-2d4f35b256ad",
   "metadata": {},
   "outputs": [
    {
     "name": "stdout",
     "output_type": "stream",
     "text": [
      "        Date  Value\n",
      "0 2023-01-01     10\n",
      "1 2023-01-15     20\n"
     ]
    }
   ],
   "source": [
    "# 12.Ans.\n",
    "\n",
    "import pandas as pd\n",
    "\n",
    "df = pd.DataFrame({'Date': ['2023-01-01', '2023-01-15', '2023-02-01', '2023-03-01'], \n",
    "                   'Value': [10, 20, 30, 40]})\n",
    "\n",
    "df['Date'] = pd.to_datetime(df['Date'])\n",
    "\n",
    "new_df = select_rows_between_dates(df)\n",
    "\n",
    "print(new_df)\n",
    "\n"
   ]
  },
  {
   "cell_type": "code",
   "execution_count": null,
   "id": "f1af71c5-c939-4488-9a3d-f8957365281a",
   "metadata": {},
   "outputs": [],
   "source": [
    "# 13.Ans.\n",
    "\n",
    "import pandas as pd\n",
    "\n",
    "By convention, pd is used as an alias for pandas. This makes it easier to \n",
    "reference pandas functions and objects throughout your code. "
   ]
  }
 ],
 "metadata": {
  "kernelspec": {
   "display_name": "Python 3 (ipykernel)",
   "language": "python",
   "name": "python3"
  },
  "language_info": {
   "codemirror_mode": {
    "name": "ipython",
    "version": 3
   },
   "file_extension": ".py",
   "mimetype": "text/x-python",
   "name": "python",
   "nbconvert_exporter": "python",
   "pygments_lexer": "ipython3",
   "version": "3.10.6"
  }
 },
 "nbformat": 4,
 "nbformat_minor": 5
}
